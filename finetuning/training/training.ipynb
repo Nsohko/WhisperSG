{
 "cells": [
  {
   "cell_type": "code",
   "execution_count": 1,
   "id": "7e48cac8-ac6a-4320-a003-fa84173282e5",
   "metadata": {},
   "outputs": [],
   "source": [
    "import psutil\n",
    "import torch\n",
    "import argparse\n",
    "import evaluate\n",
    "from dataclasses import dataclass\n",
    "from typing import Any, Dict, List, Union\n",
    "from datasets import DatasetDict, Audio, load_from_disk, concatenate_datasets, load_dataset\n",
    "from transformers.models.whisper.english_normalizer import BasicTextNormalizer\n",
    "from transformers import WhisperFeatureExtractor, WhisperTokenizer, WhisperProcessor, WhisperForConditionalGeneration, \\\n",
    "    Seq2SeqTrainingArguments, Seq2SeqTrainer"
   ]
  },
  {
   "cell_type": "code",
   "execution_count": 2,
   "id": "c377105f-f602-43f0-b3f3-5137e1d80c57",
   "metadata": {},
   "outputs": [
    {
     "name": "stdout",
     "output_type": "stream",
     "text": [
      "GPU Available:  True\n"
     ]
    }
   ],
   "source": [
    "#######################         GPU CHECK           #########################\n",
    "\n",
    "print(\"GPU Available: \", torch.cuda.is_available())"
   ]
  },
  {
   "cell_type": "code",
   "execution_count": 3,
   "id": "71592594-a18f-4a87-b459-2fe51d86cc54",
   "metadata": {},
   "outputs": [
    {
     "data": {
      "application/vnd.jupyter.widget-view+json": {
       "model_id": "0277da2ddedf4a99960b96c71c68e7b4",
       "version_major": 2,
       "version_minor": 0
      },
      "text/plain": [
       "VBox(children=(HTML(value='<center> <img\\nsrc=https://huggingface.co/front/assets/huggingface_logo-noborder.sv…"
      ]
     },
     "metadata": {},
     "output_type": "display_data"
    }
   ],
   "source": [
    "from huggingface_hub import notebook_login\n",
    "import datasets\n",
    "\n",
    "notebook_login()\n"
   ]
  },
  {
   "cell_type": "code",
   "execution_count": 4,
   "id": "18596f73-7777-4555-97e4-f379d64aad11",
   "metadata": {},
   "outputs": [],
   "source": [
    "class args_class():\n",
    "\n",
    "    model_name = 'openai/whisper-small.en' # which hf model to fine tune on\n",
    "\n",
    "    language = 'English' # which language model will be adpated to in full, Camel Case\n",
    "\n",
    "    sampling_rate = 16000 # audio sampling rate\n",
    "\n",
    "    num_proc = 8 # 'Number of parallel jobs to run. Helps parallelize the dataset prep stage.\n",
    "\n",
    "    train_strategy = 'epochs' # Training strategy. Choose between steps and epoch.\n",
    "    learning_rate = 1e-5 # Learning rate for the fine-tuning process. Kind of a measure of how \"fast\" the model tunes its weights\n",
    "    warmup = 500 # Number of warmup steps. These steps are done with a smaller learning rate to minimise the impact of devaiting model due to sudden new data exposure\n",
    "    train_batchsize = 64 # Batch size during the training phase.\n",
    "    test_batchsize = 64 # Batch size during the testing phase.\n",
    "    num_epochs = 1 # Number of epochs to train for. (if on epoch strategy)\n",
    "    num_steps = 100000 # Number of steps to train for.\n",
    "\n",
    "    resume_from_ckpt = None # Path to a trained checkpoint to resume training from.\n",
    "\n",
    "    output_dir = r\"C:\\Users\\userAdmin\\Desktop\\whisper_final\" # Output directory for the checkpoints generated.\n",
    "\n",
    "    train_datasets = [r\"C:\\Users\\userAdmin\\Desktop\\part2_no_repeats\", r\"C:\\Users\\userAdmin\\Desktop\\part1_2_no_repeat\" ] # List of local datasets to be used for training.\n",
    "    \n",
    "    test_datasets = [] # List of HF datasets to be used for testing.\n",
    " \n",
    "    combine_and_shuffle = True # set to true to combine all train and test datasets, shuffle and then split into new random train / test split\n",
    "    test_size= 0.2 # ratio of test / train dataset when split (if combine_and_shuffle is true)\n",
    "\n",
    "# instantiate args_class\n",
    "args = args_class()"
   ]
  },
  {
   "cell_type": "code",
   "execution_count": 5,
   "id": "1c8ff1b8-9e1c-4dcf-9cda-a476758dffe9",
   "metadata": {},
   "outputs": [],
   "source": [
    "# gradient checkpointing helps reduce memory footprint, while increasingly training time marginally\n",
    "# TO DO\n",
    "gradient_checkpointing = True\n",
    "freeze_feature_encoder = False\n",
    "freeze_encoder = False\n",
    "\n",
    "\n",
    "# do_normalize_eval will compute wer of the the normalized model output (ie all lower, case no punctuation). This means the model is not faulted for case or punctuation during evaluation\n",
    "do_normalize_eval = True\n",
    "\n",
    "# these are modifiers for the training data.\n",
    "# do_lower_case converts all training data to lower case\n",
    "# do_remove_punctuation will remove all puntuation\n",
    "\n",
    "do_lower_case = False\n",
    "do_remove_punctuation = False\n",
    "\n",
    "# this is a function that normalizes text for us. It  does the following\n",
    "# 1. Remove any phrases between matching brackets ([, ]).\n",
    "# 2. Remove any phrases between matching parentheses ((, )).\n",
    "# 3. Replace any markers, symbols, and punctuation characters with a space, i.e. when the Unicode category of each character in the NFKC-normalized string starts with M, S, or P.\n",
    "# 4. make the text lowercase.\n",
    "# 5. replace any successive whitespace characters with a space\n",
    "\n",
    "# TO DO: verify if this works\n",
    "normalizer = BasicTextNormalizer()"
   ]
  },
  {
   "cell_type": "code",
   "execution_count": 6,
   "id": "d126ebd7-0b8c-40ef-9043-80d262bc4989",
   "metadata": {},
   "outputs": [],
   "source": [
    "#############################       MODEL LOADING       #####################################\n",
    "\n",
    "feature_extractor = WhisperFeatureExtractor.from_pretrained(args.model_name)\n",
    "tokenizer = WhisperTokenizer.from_pretrained(args.model_name, language=args.language, task=\"transcribe\")\n",
    "processor = WhisperProcessor.from_pretrained(args.model_name, language=args.language, task=\"transcribe\")\n",
    "model = WhisperForConditionalGeneration.from_pretrained(args.model_name)\n",
    "\n",
    "if model.config.decoder_start_token_id is None:\n",
    "    raise ValueError(\"Make sure that `config.decoder_start_token_id` is correctly defined\")\n",
    "\n",
    "if freeze_feature_encoder:\n",
    "    model.freeze_feature_encoder()\n",
    "\n",
    "if freeze_encoder:\n",
    "    model.freeze_encoder()\n",
    "    model.model.encoder.gradient_checkpointing = False\n",
    "\n",
    "model.config.forced_decoder_ids = None\n",
    "model.config.suppress_tokens = []\n",
    "\n",
    "if gradient_checkpointing:\n",
    "    model.config.use_cache = False"
   ]
  },
  {
   "cell_type": "code",
   "execution_count": 7,
   "id": "58466f86-7d8f-47e9-9c76-833ae6f30cf8",
   "metadata": {},
   "outputs": [
    {
     "name": "stdout",
     "output_type": "stream",
     "text": [
      "DATASET PREPARATION IN PROGRESS...\n"
     ]
    },
    {
     "data": {
      "application/vnd.jupyter.widget-view+json": {
       "model_id": "2152cd02efa54edf9215812727e183e5",
       "version_major": 2,
       "version_minor": 0
      },
      "text/plain": [
       "Loading dataset from disk:   0%|          | 0/99 [00:00<?, ?it/s]"
      ]
     },
     "metadata": {},
     "output_type": "display_data"
    },
    {
     "data": {
      "application/vnd.jupyter.widget-view+json": {
       "model_id": "d145324c80ad4a1d8d889f7d5902a0d4",
       "version_major": 2,
       "version_minor": 0
      },
      "text/plain": [
       "Loading dataset from disk:   0%|          | 0/27 [00:00<?, ?it/s]"
      ]
     },
     "metadata": {},
     "output_type": "display_data"
    },
    {
     "name": "stderr",
     "output_type": "stream",
     "text": [
      "C:\\Users\\userAdmin\\anaconda3\\envs\\whispersg3.9\\lib\\site-packages\\datasets\\load.py:1461: FutureWarning: The repository for mozilla-foundation/common_voice_16_1 contains custom code which must be executed to correctly load the dataset. You can inspect the repository content at https://hf.co/datasets/mozilla-foundation/common_voice_16_1\n",
      "You can avoid this message in future by passing the argument `trust_remote_code=True`.\n",
      "Passing `trust_remote_code=True` will be mandatory to load this dataset from the next major release of `datasets`.\n",
      "  warnings.warn(\n"
     ]
    }
   ],
   "source": [
    "###########################        DATASET LOADING AND PREP        ##########################\n",
    "\n",
    "def load_custom_dataset(split):\n",
    "    ds = []\n",
    "    if split == 'train':\n",
    "        for dset in args.train_datasets:\n",
    "            ds.append(load_from_disk(dset))\n",
    "    if split == 'test':\n",
    "        for dset in args.test_datasets:\n",
    "            ds.append(load_from_disk(dset))\n",
    "\n",
    "    ds_to_return = concatenate_datasets(ds)\n",
    "    ds_to_return = ds_to_return.shuffle(seed=22)\n",
    "    return ds_to_return\n",
    "\n",
    "class TokenizerWrapper:\n",
    "    def __init__(self, processor, normalizer):\n",
    "        self.processor = processor\n",
    "        self.do_lower_case = do_lower_case\n",
    "        self. do_remove_punctuation = do_remove_punctuation\n",
    "        self.normalizer = normalizer\n",
    "    \n",
    "    def prepare_dataset(self, batch):\n",
    "    \n",
    "        # load and (possibly) resample audio data to 16kHz\n",
    "        audio = batch[\"audio\"]\n",
    "\n",
    "        # compute log-Mel input features from input audio array\n",
    "        batch[\"input_features\"] = self.processor.feature_extractor(audio[\"array\"], sampling_rate=audio[\"sampling_rate\"]).input_features[0]\n",
    "        # compute input length of audio sample in seconds\n",
    "        batch[\"input_length\"] = len(audio[\"array\"]) / audio[\"sampling_rate\"]\n",
    "\n",
    "        # optional pre-processing steps\n",
    "        transcription = batch[\"sentence\"]\n",
    "        if self.do_lower_case:\n",
    "            transcription = transcription.lower()\n",
    "        if self.do_remove_punctuation:\n",
    "            transcription = self.normalizer(transcription).strip()\n",
    "\n",
    "        # encode target text to label ids\n",
    "        batch[\"labels\"] = self.processor.tokenizer(transcription).input_ids\n",
    "        \n",
    "        return batch\n",
    "\n",
    "\n",
    "\n",
    "\n",
    "max_label_length = model.config.max_length\n",
    "min_input_length = 0.0\n",
    "max_input_length = 30.0\n",
    "\n",
    "class FilterWrapper:\n",
    "\n",
    "    def __init__(self, max_label_length, min_input_length, max_input_length):\n",
    "\n",
    "        self.max_label_length = max_label_length\n",
    "        self.min_input_length = min_input_length\n",
    "        self.max_input_length = max_input_length\n",
    "\n",
    "    def is_in_length_range(self, length, labels, sentence):\n",
    "        return self.min_input_length < length < self.max_input_length and 0 < len(labels) < self.max_label_length and 0 < len(sentence)\n",
    "\n",
    "\n",
    "print('DATASET PREPARATION IN PROGRESS...')\n",
    "\n",
    "# Case 1: train and test are both provided, no combine_and_shuffle. Note that if combine_and_shuffle is False, both train and test are guranteed to be provided (else I would have gotten an error in cell 4)\n",
    "if not(args.combine_and_shuffle):\n",
    "    raw_dataset = DatasetDict()\n",
    "    raw_dataset[\"train\"] = load_custom_dataset('train')\n",
    "    raw_dataset[\"test\"] = load_custom_dataset('test')\n",
    "\n",
    "# case 2: combine_and_shuffle is true, train and test both provided\n",
    "elif len(args.test_datasets) > 0:\n",
    "    # load both datasets\n",
    "    train_set = load_custom_dataset('train')\n",
    "    test_set = load_custom_dataset('test')\n",
    "\n",
    "    # combine both datasets\n",
    "    combined_dataset = concatenate_datasets(train_set, test_set)\n",
    "\n",
    "    # split dataset\n",
    "    raw_dataset = DatasetDict()\n",
    "    raw_dataset = combined_dataset.train_test_split(test_size = args.test_size, shuffle=True, seed=42)\n",
    "\n",
    "# case 3: combine_and_shuffle is true, only train provided\n",
    "else:\n",
    "\n",
    "    train_set = load_custom_dataset('train')\n",
    "\n",
    "    raw_dataset = train_set.train_test_split(test_size = args.test_size, shuffle=True, seed=42)\n",
    "\n",
    "raw_dataset = raw_dataset.cast_column(\"audio\", Audio(sampling_rate=args.sampling_rate))\n",
    "print(\"Raw Dataset: \")\n",
    "print(raw_dataset)    "
   ]
  },
  {
   "cell_type": "code",
   "execution_count": 8,
   "id": "370acff7-991e-4c8a-a58d-fe144249b32d",
   "metadata": {},
   "outputs": [
    {
     "name": "stdout",
     "output_type": "stream",
     "text": [
      "Dataset({\n",
      "    features: ['audio', 'sentence'],\n",
      "    num_rows: 450000\n",
      "})\n",
      "Dataset({\n",
      "    features: ['audio', 'sentence'],\n",
      "    num_rows: 450000\n",
      "})\n"
     ]
    }
   ],
   "source": [
    "## ONLY RUN THIS CELL TO AUGMENT WITH DATA FROM HUGGINGFACE ##\n",
    "\n",
    "## THIS WILL MERGE THE TRAIN AND TEST SPLITS OF RAW_DATASETS AND RESHUFFLE IT ##\n",
    "\n",
    "# first load the extra data, change the path to the HF dataset as needed\n",
    "extra_data = load_dataset(\"mozilla-foundation/common_voice_16_1\", \"en\", split=\"train\")\n",
    "\n",
    "# next, lets do some pre-processing on the extra data to get it in the same format as the rest of the dataset\n",
    "extra_data = extra_data.remove_columns(set(extra_data.features.keys()) - set([\"audio\", \"sentence\"]))\n",
    "\n",
    "# next lets get a slice of the dataset (the whole dataset is too big, so lets just use 450k examples)\n",
    "extra_data = extra_data.shuffle(seed=42)\n",
    "extra_data = extra_data.select( [i for i in range(0, 450000)] )\n",
    "\n",
    "# cast audio\n",
    "print(\"Extra Data: \"\n",
    "print(extra_data)\n",
    "extra_data = extra_data.cast_column(\"audio\", Audio(sampling_rate=args.sampling_rate))\n",
    "\n",
    "# perform any additional formatting on EXTRA data\n",
    "def prepare_extra_dataset(batch):\n",
    "  \"\"\"Function to preprocess the dataset with the .map method\"\"\"\n",
    "  transcription = batch[\"sentence\"]\n",
    "  \n",
    "  if transcription.startswith('\"') and transcription.endswith('\"'):\n",
    "    # we can remove trailing quotation marks as they do not affect the transcription\n",
    "    transcription = transcription[1:-1]\n",
    "  \n",
    "  if transcription[-1] not in [\".\", \"?\", \"!\"]:\n",
    "    # append a full-stop to sentences that do not end in punctuation\n",
    "    transcription = transcription + \".\"\n",
    "  \n",
    "  batch[\"sentence\"] = transcription\n",
    "  \n",
    "  return batch\n",
    "\n",
    "extra_data = extra_data.map(prepare_dataset, num_proc=8)\n",
    "\n",
    "print(\"Formatted extra data: \")\n",
    "print(extra_data)\n",
    "\n",
    "# now that our extra_data is ready, lets merge it with the rest of our dataset\n",
    "raw_dataset = concatenate_datasets( [raw_dataset[\"train\"], raw_dataset[\"test\"], extra_data] )\n",
    "raw_dataset = raw_dataset.shuffle(seed=22)\n",
    "\n",
    "raw_dataset = raw_dataset.train_test_split(test_size = args.test_size, shuffle=True, seed=42)"
   ]
  },
  {
   "cell_type": "code",
   "execution_count": 9,
   "id": "5e121955-864d-4605-9561-b6f3c1e3efb2",
   "metadata": {},
   "outputs": [
    {
     "name": "stdout",
     "output_type": "stream",
     "text": [
      "Dataset({\n",
      "    features: ['audio', 'sentence'],\n",
      "    num_rows: 435141\n",
      "})\n",
      "Before Map:\n",
      "DatasetDict({\n",
      "    train: Dataset({\n",
      "        features: ['audio', 'sentence'],\n",
      "        num_rows: 708112\n",
      "    })\n",
      "    test: Dataset({\n",
      "        features: ['audio', 'sentence'],\n",
      "        num_rows: 177029\n",
      "    })\n",
      "})\n",
      "After Map:\n",
      "DatasetDict({\n",
      "    train: Dataset({\n",
      "        features: ['audio', 'sentence', 'input_features', 'input_length', 'labels'],\n",
      "        num_rows: 708112\n",
      "    })\n",
      "    test: Dataset({\n",
      "        features: ['audio', 'sentence', 'input_features', 'input_length', 'labels'],\n",
      "        num_rows: 177029\n",
      "    })\n",
      "})\n",
      "After Filter:\n",
      "DatasetDict({\n",
      "    train: Dataset({\n",
      "        features: ['audio', 'sentence', 'input_features', 'input_length', 'labels'],\n",
      "        num_rows: 708111\n",
      "    })\n",
      "    test: Dataset({\n",
      "        features: ['audio', 'sentence', 'input_features', 'input_length', 'labels'],\n",
      "        num_rows: 177029\n",
      "    })\n",
      "})\n"
     ]
    }
   ],
   "source": [
    "# now perform pre-processing on the entire dataset\n",
    "\n",
    "print(\"Before Map:\")\n",
    "print(raw_dataset)\n",
    "\n",
    "\n",
    "tokenizer_wrapper = TokenizerWrapper(processor, normalizer)\n",
    "\n",
    "raw_dataset = raw_dataset.map(tokenizer_wrapper.prepare_dataset, num_proc=args.num_proc)\n",
    "\n",
    "print(\"After Map:\")\n",
    "print(raw_dataset)\n",
    "\n",
    "filter_wrapper = FilterWrapper(max_label_length, min_input_length, max_input_length)\n",
    "\n",
    "raw_dataset = raw_dataset.filter(\n",
    "    filter_wrapper.is_in_length_range,\n",
    "    input_columns=[\"input_length\", \"labels\", \"sentence\"],\n",
    "    num_proc=args.num_proc,\n",
    ")\n",
    "\n",
    "print(\"After Filter:\")\n",
    "print(raw_dataset)"
   ]
  },
  {
   "cell_type": "code",
   "execution_count": 10,
   "id": "6758392b-c5da-40c0-ad9c-675c216dd39d",
   "metadata": {},
   "outputs": [
    {
     "name": "stdout",
     "output_type": "stream",
     "text": [
      "DATASET PREPARATION COMPLETED\n"
     ]
    }
   ],
   "source": [
    "###############################     DATA COLLATOR AND METRIC DEFINITION     ########################\n",
    "\n",
    "@dataclass\n",
    "class DataCollatorSpeechSeq2SeqWithPadding:\n",
    "    processor: Any\n",
    "\n",
    "    def __call__(self, features: List[Dict[str, Union[List[int], torch.Tensor]]]) -> Dict[str, torch.Tensor]:\n",
    "        # split inputs and labels since they have to be of different lengths and need different padding methods\n",
    "        # first treat the audio inputs by simply returning torch tensors\n",
    "\n",
    "        # compute log-Mel input features from input audio arra\n",
    "        #input_features = [{\"input_features\": self.processor.feature_extractor(feature[\"audio\"][\"array\"], sampling_rate=feature[\"audio\"][\"sampling_rate\"]).input_features[0]} for feature in features]\n",
    "        \n",
    "        input_features = [{\"input_features\": feature[\"input_features\"]} for feature in features]\n",
    "        batch = self.processor.feature_extractor.pad(input_features, return_tensors=\"pt\")\n",
    "\n",
    "        # get the tokenized label sequences\n",
    "        label_features = [{\"input_ids\": feature[\"labels\"]} for feature in features]\n",
    "        # pad the labels to max length\n",
    "        labels_batch = self.processor.tokenizer.pad(label_features, return_tensors=\"pt\")\n",
    "\n",
    "        # replace padding with -100 to ignore loss correctly\n",
    "        labels = labels_batch[\"input_ids\"].masked_fill(labels_batch.attention_mask.ne(1), -100)\n",
    "\n",
    "        # if bos token is appended in previous tokenization step,\n",
    "        # cut bos token here as it's append later anyways\n",
    "        if (labels[:, 0] == self.processor.tokenizer.bos_token_id).all().cpu().item():\n",
    "            labels = labels[:, 1:]\n",
    "\n",
    "        batch[\"labels\"] = labels\n",
    "        \n",
    "        return batch\n",
    "\n",
    "\n",
    "data_collator = DataCollatorSpeechSeq2SeqWithPadding(processor=processor)\n",
    "print('DATASET PREPARATION COMPLETED')"
   ]
  },
  {
   "cell_type": "code",
   "execution_count": 11,
   "id": "8d6a477d-1f1d-4f21-91d5-646396eb714a",
   "metadata": {},
   "outputs": [],
   "source": [
    "metric = evaluate.load(\"wer\")\n",
    "\n",
    "def compute_metrics(pred):\n",
    "    pred_ids = pred.predictions\n",
    "    label_ids = pred.label_ids\n",
    "\n",
    "    # replace -100 with the pad_token_id\n",
    "    label_ids[label_ids == -100] = processor.tokenizer.pad_token_id\n",
    "\n",
    "    # we do not want to group tokens when computing the metrics\n",
    "    pred_str = processor.tokenizer.batch_decode(pred_ids, skip_special_tokens=True)\n",
    "    label_str = processor.tokenizer.batch_decode(label_ids, skip_special_tokens=True)\n",
    "\n",
    "    if do_normalize_eval:\n",
    "        pred_str = [normalizer(pred) for pred in pred_str]\n",
    "        label_str = [normalizer(label) for label in label_str]\n",
    "\n",
    "    wer = 100 * metric.compute(predictions=pred_str, references=label_str)\n",
    "    return {\"wer\": wer}\n",
    "\n"
   ]
  },
  {
   "cell_type": "code",
   "execution_count": 12,
   "id": "4212becb-7a8c-41e8-adba-9050e9e1c59d",
   "metadata": {},
   "outputs": [
    {
     "name": "stderr",
     "output_type": "stream",
     "text": [
      "C:\\Users\\userAdmin\\anaconda3\\envs\\whispersg3.9\\lib\\site-packages\\accelerate\\accelerator.py:436: FutureWarning: Passing the following arguments to `Accelerator` is deprecated and will be removed in version 1.0 of Accelerate: dict_keys(['dispatch_batches', 'split_batches', 'even_batches', 'use_seedable_sampler']). Please pass an `accelerate.DataLoaderConfiguration` instead: \n",
      "dataloader_config = DataLoaderConfiguration(dispatch_batches=None, split_batches=False, even_batches=True, use_seedable_sampler=True)\n",
      "  warnings.warn(\n"
     ]
    },
    {
     "data": {
      "text/plain": [
       "[]"
      ]
     },
     "execution_count": 12,
     "metadata": {},
     "output_type": "execute_result"
    }
   ],
   "source": [
    "###############################     TRAINING ARGS AND TRAINING      ############################\n",
    "\n",
    "if args.train_strategy == 'epochs' or args.train_strategy == 'epoch':\n",
    "    training_args = Seq2SeqTrainingArguments(\n",
    "        output_dir=args.output_dir,\n",
    "        per_device_train_batch_size=args.train_batchsize,\n",
    "        gradient_accumulation_steps=1,\n",
    "        learning_rate=args.learning_rate,\n",
    "        warmup_steps=args.warmup,\n",
    "        gradient_checkpointing=gradient_checkpointing,\n",
    "        fp16=True,\n",
    "        evaluation_strategy=\"epoch\",\n",
    "        save_strategy=\"epoch\",\n",
    "        num_train_epochs=args.num_epochs,\n",
    "        save_total_limit=10,\n",
    "        per_device_eval_batch_size=args.test_batchsize,\n",
    "        predict_with_generate=True,\n",
    "        generation_max_length=225,\n",
    "        logging_steps=500,\n",
    "        report_to=[\"tensorboard\"],\n",
    "        load_best_model_at_end=True,\n",
    "        metric_for_best_model=\"wer\",\n",
    "        greater_is_better=False,\n",
    "        optim=\"adafactor\",\n",
    "        resume_from_checkpoint=args.resume_from_ckpt,\n",
    "        #remove_unused_columns=False\n",
    "    )\n",
    "\n",
    "elif args.train_strategy == 'steps' or args.train_strategy == 'step':\n",
    "    training_args = Seq2SeqTrainingArguments(\n",
    "        output_dir=args.output_dir,\n",
    "        per_device_train_batch_size=args.train_batchsize,\n",
    "        gradient_accumulation_steps=1,\n",
    "        learning_rate=args.learning_rate,\n",
    "        warmup_steps=args.warmup,\n",
    "        gradient_checkpointing=gradient_checkpointing,\n",
    "        fp16=True,\n",
    "        evaluation_strategy=\"steps\",\n",
    "        eval_steps=200,\n",
    "        save_strategy=\"steps\",\n",
    "        save_steps=200,\n",
    "        max_steps=num_steps,\n",
    "        save_total_limit=10,\n",
    "        per_device_eval_batch_size=args.test_batchsize,\n",
    "        predict_with_generate=True,\n",
    "        generation_max_length=225,\n",
    "        logging_steps=500,\n",
    "        report_to=[\"tensorboard\"],\n",
    "        load_best_model_at_end=True,\n",
    "        metric_for_best_model=\"wer\",\n",
    "        greater_is_better=False,\n",
    "        optim=\"adafactor\",\n",
    "        resume_from_checkpoint=args.resume_from_ckpt,\n",
    "\n",
    "    )\n",
    "\n",
    "trainer = Seq2SeqTrainer(\n",
    "    args=training_args,\n",
    "    model=model,\n",
    "    train_dataset=raw_dataset[\"train\"],\n",
    "    eval_dataset=raw_dataset[\"test\"],\n",
    "    data_collator=data_collator,\n",
    "    compute_metrics=compute_metrics,\n",
    "    tokenizer=processor.feature_extractor\n",
    ")\n",
    "\n",
    "processor.save_pretrained(training_args.output_dir)\n"
   ]
  },
  {
   "cell_type": "code",
   "execution_count": 13,
   "id": "ff5f36f2-84c1-457b-9d7d-415578280db1",
   "metadata": {},
   "outputs": [
    {
     "name": "stdout",
     "output_type": "stream",
     "text": [
      "INITIAL EVAL IN PROGRESS...\n"
     ]
    },
    {
     "name": "stderr",
     "output_type": "stream",
     "text": [
      "C:\\Users\\userAdmin\\anaconda3\\envs\\whispersg3.9\\lib\\site-packages\\transformers\\models\\whisper\\modeling_whisper.py:697: UserWarning: 1Torch was not compiled with flash attention. (Triggered internally at C:\\cb\\pytorch_1000000000000\\work\\aten\\src\\ATen\\native\\transformers\\cuda\\sdp_utils.cpp:263.)\n",
      "  attn_output = torch.nn.functional.scaled_dot_product_attention(\n"
     ]
    },
    {
     "data": {
      "text/html": [
       "\n",
       "    <div>\n",
       "      \n",
       "      <progress value='2767' max='2767' style='width:300px; height:20px; vertical-align: middle;'></progress>\n",
       "      [2767/2767 10:53:58]\n",
       "    </div>\n",
       "    "
      ],
      "text/plain": [
       "<IPython.core.display.HTML object>"
      ]
     },
     "metadata": {},
     "output_type": "display_data"
    },
    {
     "name": "stdout",
     "output_type": "stream",
     "text": [
      "{'eval_loss': 4.494086742401123, 'eval_wer': 19.883646857017613, 'eval_runtime': 46808.8052, 'eval_samples_per_second': 3.782, 'eval_steps_per_second': 0.059}\n",
      "DONE INITIAL EVAL\n"
     ]
    }
   ],
   "source": [
    "print('INITIAL EVAL IN PROGRESS...')\n",
    "print(trainer.evaluate())\n",
    "print('DONE INITIAL EVAL')"
   ]
  },
  {
   "cell_type": "code",
   "execution_count": null,
   "id": "76ea970d-da35-4fe8-b563-ebb147911cf1",
   "metadata": {},
   "outputs": [],
   "source": [
    "print('TRAINING IN PROGRESS...')\n",
    "trainer.train()\n",
    "print('DONE TRAINING')"
   ]
  },
  {
   "cell_type": "code",
   "execution_count": null,
   "id": "af9d1dec-a90d-44d5-88c6-412a2828efc4",
   "metadata": {},
   "outputs": [],
   "source": []
  },
  {
   "cell_type": "code",
   "execution_count": null,
   "id": "18e541ba-ef44-4b42-9150-e0b8242f23b8",
   "metadata": {},
   "outputs": [],
   "source": []
  }
 ],
 "metadata": {
  "kernelspec": {
   "display_name": "WhisperSG",
   "language": "python",
   "name": "whispersg3.9"
  },
  "language_info": {
   "codemirror_mode": {
    "name": "ipython",
    "version": 3
   },
   "file_extension": ".py",
   "mimetype": "text/x-python",
   "name": "python",
   "nbconvert_exporter": "python",
   "pygments_lexer": "ipython3",
   "version": "3.9.19"
  }
 },
 "nbformat": 4,
 "nbformat_minor": 5
}
